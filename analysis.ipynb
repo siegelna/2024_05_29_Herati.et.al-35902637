{
 "cells": [
  {
   "cell_type": "code",
   "execution_count": null,
   "metadata": {
    "vscode": {
     "languageId": "r"
    }
   },
   "outputs": [],
   "source": [
    "suppressPackageStartupMessages({\n",
    "    library(DESeq2)\n",
    "    library(dplyr)\n",
    "})"
   ]
  },
  {
   "cell_type": "markdown",
   "metadata": {},
   "source": [
    "Add time points and cell types\n",
    "deploying shinyapp on aws"
   ]
  },
  {
   "cell_type": "code",
   "execution_count": 62,
   "metadata": {
    "vscode": {
     "languageId": "r"
    }
   },
   "outputs": [],
   "source": [
    "# URL of the compressed file\n",
    "url <- \"https://ftp.ncbi.nlm.nih.gov/geo/series/GSE179nnn/GSE179487/suppl/GSE179487_FINAL_master_list_of_gene_counts_MIN.Fastqs.txt.gz\"\n",
    "\n",
    "# Download the compressed file to a temporary location\n",
    "temp_compressed <- tempfile(fileext = \".gz\")\n",
    "download.file(url, temp_compressed)\n",
    "\n",
    "# Decompress the file\n",
    "temp_decompressed <- tempfile()\n",
    "gzfile <- gzfile(temp_compressed, \"rb\")\n",
    "writeLines(readLines(gzfile), temp_decompressed)\n",
    "close(gzfile)"
   ]
  },
  {
   "cell_type": "code",
   "execution_count": 74,
   "metadata": {
    "vscode": {
     "languageId": "r"
    }
   },
   "outputs": [
    {
     "data": {
      "text/html": [
       "<table class=\"dataframe\">\n",
       "<caption>A matrix: 6 × 88 of type int</caption>\n",
       "<thead>\n",
       "\t<tr><th></th><th scope=col>19616.021_HiHi_oW_S17</th><th scope=col>19616.022_ABC_oW_S20</th><th scope=col>19616.022_HiHi_oW_S21</th><th scope=col>19616.022_naiveB_oW_S19</th><th scope=col>19616.023_HiHi_bL_S15</th><th scope=col>19616.023_HiHi_oW_S18</th><th scope=col>19616.025_ABC_oW_S27</th><th scope=col>19616.025_HiHi_oW_S29</th><th scope=col>19616.025_naiveB_oW_S26</th><th scope=col>19616.025_PB_oW_S28</th><th scope=col>⋯</th><th scope=col>FS1819.131_ABC_bL_S2</th><th scope=col>FS1819.131_HiHi_bL_S3</th><th scope=col>FS1819.131_HiHi_oW_S10</th><th scope=col>FS1819.131_naiveB_bL_S1</th><th scope=col>FS1819.131_naiveB_oW_S8</th><th scope=col>FS1819.131_PB_oW_S9</th><th scope=col>FS1819.999_ABC_bL_S5</th><th scope=col>FS1819.999_HiHi_bL_S7</th><th scope=col>FS1819.999_naiveB_bL_S4</th><th scope=col>FS1819.999_PB_bL_S6</th></tr>\n",
       "</thead>\n",
       "<tbody>\n",
       "\t<tr><th scope=row>TSPAN6</th><td>  0</td><td>  0</td><td>  0</td><td>  0</td><td>  0</td><td>  1</td><td>  0</td><td>  2</td><td> 0</td><td>  3</td><td>⋯</td><td>  2</td><td>  4</td><td> 17</td><td>  1</td><td>  3</td><td>  1</td><td>  0</td><td>  1</td><td>  0</td><td>  0</td></tr>\n",
       "\t<tr><th scope=row>DPM1</th><td>191</td><td>113</td><td>181</td><td> 87</td><td>221</td><td>163</td><td>117</td><td>142</td><td>86</td><td>114</td><td>⋯</td><td>161</td><td>168</td><td> 99</td><td>100</td><td> 91</td><td> 85</td><td> 92</td><td>179</td><td> 94</td><td>137</td></tr>\n",
       "\t<tr><th scope=row>SCYL3</th><td>  8</td><td> 21</td><td> 21</td><td>  8</td><td> 52</td><td> 24</td><td> 38</td><td> 18</td><td>19</td><td> 19</td><td>⋯</td><td> 60</td><td> 16</td><td> 10</td><td> 14</td><td> 16</td><td> 26</td><td> 53</td><td> 19</td><td> 13</td><td> 14</td></tr>\n",
       "\t<tr><th scope=row>C1orf112</th><td>  5</td><td>  1</td><td>  3</td><td>  4</td><td> 16</td><td>  7</td><td>  8</td><td>  5</td><td> 0</td><td>  5</td><td>⋯</td><td>  1</td><td>  4</td><td>  0</td><td>  2</td><td>  4</td><td>  0</td><td>  4</td><td>  2</td><td>  0</td><td> 13</td></tr>\n",
       "\t<tr><th scope=row>FGR</th><td>125</td><td>299</td><td> 51</td><td>457</td><td> 57</td><td>  0</td><td>794</td><td>476</td><td>78</td><td>637</td><td>⋯</td><td>330</td><td>108</td><td>722</td><td>433</td><td>492</td><td>695</td><td>233</td><td>303</td><td>338</td><td>495</td></tr>\n",
       "\t<tr><th scope=row>CFH</th><td>  0</td><td>  0</td><td>  2</td><td>  0</td><td>  0</td><td>  3</td><td>  0</td><td>  1</td><td> 0</td><td>  0</td><td>⋯</td><td>  0</td><td>  0</td><td>  0</td><td>  1</td><td>  0</td><td>  6</td><td>  0</td><td>  1</td><td>  0</td><td>  0</td></tr>\n",
       "</tbody>\n",
       "</table>\n"
      ],
      "text/latex": [
       "A matrix: 6 × 88 of type int\n",
       "\\begin{tabular}{r|lllllllllllllllllllll}\n",
       "  & 19616.021\\_HiHi\\_oW\\_S17 & 19616.022\\_ABC\\_oW\\_S20 & 19616.022\\_HiHi\\_oW\\_S21 & 19616.022\\_naiveB\\_oW\\_S19 & 19616.023\\_HiHi\\_bL\\_S15 & 19616.023\\_HiHi\\_oW\\_S18 & 19616.025\\_ABC\\_oW\\_S27 & 19616.025\\_HiHi\\_oW\\_S29 & 19616.025\\_naiveB\\_oW\\_S26 & 19616.025\\_PB\\_oW\\_S28 & ⋯ & FS1819.131\\_ABC\\_bL\\_S2 & FS1819.131\\_HiHi\\_bL\\_S3 & FS1819.131\\_HiHi\\_oW\\_S10 & FS1819.131\\_naiveB\\_bL\\_S1 & FS1819.131\\_naiveB\\_oW\\_S8 & FS1819.131\\_PB\\_oW\\_S9 & FS1819.999\\_ABC\\_bL\\_S5 & FS1819.999\\_HiHi\\_bL\\_S7 & FS1819.999\\_naiveB\\_bL\\_S4 & FS1819.999\\_PB\\_bL\\_S6\\\\\n",
       "\\hline\n",
       "\tTSPAN6 &   0 &   0 &   0 &   0 &   0 &   1 &   0 &   2 &  0 &   3 & ⋯ &   2 &   4 &  17 &   1 &   3 &   1 &   0 &   1 &   0 &   0\\\\\n",
       "\tDPM1 & 191 & 113 & 181 &  87 & 221 & 163 & 117 & 142 & 86 & 114 & ⋯ & 161 & 168 &  99 & 100 &  91 &  85 &  92 & 179 &  94 & 137\\\\\n",
       "\tSCYL3 &   8 &  21 &  21 &   8 &  52 &  24 &  38 &  18 & 19 &  19 & ⋯ &  60 &  16 &  10 &  14 &  16 &  26 &  53 &  19 &  13 &  14\\\\\n",
       "\tC1orf112 &   5 &   1 &   3 &   4 &  16 &   7 &   8 &   5 &  0 &   5 & ⋯ &   1 &   4 &   0 &   2 &   4 &   0 &   4 &   2 &   0 &  13\\\\\n",
       "\tFGR & 125 & 299 &  51 & 457 &  57 &   0 & 794 & 476 & 78 & 637 & ⋯ & 330 & 108 & 722 & 433 & 492 & 695 & 233 & 303 & 338 & 495\\\\\n",
       "\tCFH &   0 &   0 &   2 &   0 &   0 &   3 &   0 &   1 &  0 &   0 & ⋯ &   0 &   0 &   0 &   1 &   0 &   6 &   0 &   1 &   0 &   0\\\\\n",
       "\\end{tabular}\n"
      ],
      "text/markdown": [
       "\n",
       "A matrix: 6 × 88 of type int\n",
       "\n",
       "| <!--/--> | 19616.021_HiHi_oW_S17 | 19616.022_ABC_oW_S20 | 19616.022_HiHi_oW_S21 | 19616.022_naiveB_oW_S19 | 19616.023_HiHi_bL_S15 | 19616.023_HiHi_oW_S18 | 19616.025_ABC_oW_S27 | 19616.025_HiHi_oW_S29 | 19616.025_naiveB_oW_S26 | 19616.025_PB_oW_S28 | ⋯ | FS1819.131_ABC_bL_S2 | FS1819.131_HiHi_bL_S3 | FS1819.131_HiHi_oW_S10 | FS1819.131_naiveB_bL_S1 | FS1819.131_naiveB_oW_S8 | FS1819.131_PB_oW_S9 | FS1819.999_ABC_bL_S5 | FS1819.999_HiHi_bL_S7 | FS1819.999_naiveB_bL_S4 | FS1819.999_PB_bL_S6 |\n",
       "|---|---|---|---|---|---|---|---|---|---|---|---|---|---|---|---|---|---|---|---|---|---|\n",
       "| TSPAN6 |   0 |   0 |   0 |   0 |   0 |   1 |   0 |   2 |  0 |   3 | ⋯ |   2 |   4 |  17 |   1 |   3 |   1 |   0 |   1 |   0 |   0 |\n",
       "| DPM1 | 191 | 113 | 181 |  87 | 221 | 163 | 117 | 142 | 86 | 114 | ⋯ | 161 | 168 |  99 | 100 |  91 |  85 |  92 | 179 |  94 | 137 |\n",
       "| SCYL3 |   8 |  21 |  21 |   8 |  52 |  24 |  38 |  18 | 19 |  19 | ⋯ |  60 |  16 |  10 |  14 |  16 |  26 |  53 |  19 |  13 |  14 |\n",
       "| C1orf112 |   5 |   1 |   3 |   4 |  16 |   7 |   8 |   5 |  0 |   5 | ⋯ |   1 |   4 |   0 |   2 |   4 |   0 |   4 |   2 |   0 |  13 |\n",
       "| FGR | 125 | 299 |  51 | 457 |  57 |   0 | 794 | 476 | 78 | 637 | ⋯ | 330 | 108 | 722 | 433 | 492 | 695 | 233 | 303 | 338 | 495 |\n",
       "| CFH |   0 |   0 |   2 |   0 |   0 |   3 |   0 |   1 |  0 |   0 | ⋯ |   0 |   0 |   0 |   1 |   0 |   6 |   0 |   1 |   0 |   0 |\n",
       "\n"
      ],
      "text/plain": [
       "         19616.021_HiHi_oW_S17 19616.022_ABC_oW_S20 19616.022_HiHi_oW_S21\n",
       "TSPAN6     0                     0                    0                  \n",
       "DPM1     191                   113                  181                  \n",
       "SCYL3      8                    21                   21                  \n",
       "C1orf112   5                     1                    3                  \n",
       "FGR      125                   299                   51                  \n",
       "CFH        0                     0                    2                  \n",
       "         19616.022_naiveB_oW_S19 19616.023_HiHi_bL_S15 19616.023_HiHi_oW_S18\n",
       "TSPAN6     0                       0                     1                  \n",
       "DPM1      87                     221                   163                  \n",
       "SCYL3      8                      52                    24                  \n",
       "C1orf112   4                      16                     7                  \n",
       "FGR      457                      57                     0                  \n",
       "CFH        0                       0                     3                  \n",
       "         19616.025_ABC_oW_S27 19616.025_HiHi_oW_S29 19616.025_naiveB_oW_S26\n",
       "TSPAN6     0                    2                    0                     \n",
       "DPM1     117                  142                   86                     \n",
       "SCYL3     38                   18                   19                     \n",
       "C1orf112   8                    5                    0                     \n",
       "FGR      794                  476                   78                     \n",
       "CFH        0                    1                    0                     \n",
       "         19616.025_PB_oW_S28 ⋯ FS1819.131_ABC_bL_S2 FS1819.131_HiHi_bL_S3\n",
       "TSPAN6     3                 ⋯   2                    4                  \n",
       "DPM1     114                 ⋯ 161                  168                  \n",
       "SCYL3     19                 ⋯  60                   16                  \n",
       "C1orf112   5                 ⋯   1                    4                  \n",
       "FGR      637                 ⋯ 330                  108                  \n",
       "CFH        0                 ⋯   0                    0                  \n",
       "         FS1819.131_HiHi_oW_S10 FS1819.131_naiveB_bL_S1 FS1819.131_naiveB_oW_S8\n",
       "TSPAN6    17                      1                       3                    \n",
       "DPM1      99                    100                      91                    \n",
       "SCYL3     10                     14                      16                    \n",
       "C1orf112   0                      2                       4                    \n",
       "FGR      722                    433                     492                    \n",
       "CFH        0                      1                       0                    \n",
       "         FS1819.131_PB_oW_S9 FS1819.999_ABC_bL_S5 FS1819.999_HiHi_bL_S7\n",
       "TSPAN6     1                   0                    1                  \n",
       "DPM1      85                  92                  179                  \n",
       "SCYL3     26                  53                   19                  \n",
       "C1orf112   0                   4                    2                  \n",
       "FGR      695                 233                  303                  \n",
       "CFH        6                   0                    1                  \n",
       "         FS1819.999_naiveB_bL_S4 FS1819.999_PB_bL_S6\n",
       "TSPAN6     0                       0                \n",
       "DPM1      94                     137                \n",
       "SCYL3     13                      14                \n",
       "C1orf112   0                      13                \n",
       "FGR      338                     495                \n",
       "CFH        0                       0                "
      ]
     },
     "metadata": {},
     "output_type": "display_data"
    }
   ],
   "source": [
    "# Counts\n",
    "counts <- read.table(temp_decompressed, header = TRUE)\n",
    "rownames(counts) <- make.unique(counts$geneSymbol)\n",
    "counts$geneSymbol <- NULL\n",
    "counts$id <- NULL\n",
    "counts$geneCoordinate <- NULL\n",
    "colnames(counts) <- sub(pattern = \"^X\", replacement = \"\", colnames(counts))\n",
    "counts_mat <- as.matrix(counts)\n",
    "head(counts_mat)"
   ]
  },
  {
   "cell_type": "code",
   "execution_count": 75,
   "metadata": {
    "vscode": {
     "languageId": "r"
    }
   },
   "outputs": [
    {
     "data": {
      "text/html": [
       "<table class=\"dataframe\">\n",
       "<caption>A data.frame: 6 × 6</caption>\n",
       "<thead>\n",
       "\t<tr><th></th><th scope=col>id</th><th scope=col>Sample_title</th><th scope=col>Sample_geo_accession</th><th scope=col>Time_Point</th><th scope=col>condition</th><th scope=col>Cell_Type</th></tr>\n",
       "\t<tr><th></th><th scope=col>&lt;chr&gt;</th><th scope=col>&lt;chr&gt;</th><th scope=col>&lt;chr&gt;</th><th scope=col>&lt;chr&gt;</th><th scope=col>&lt;chr&gt;</th><th scope=col>&lt;chr&gt;</th></tr>\n",
       "</thead>\n",
       "<tbody>\n",
       "\t<tr><th scope=row>1</th><td>19616-021_HiHi_oW_S17  </td><td>anti-PD1-treated adult 1_HiHi_oW  </td><td>GSM5419198</td><td>1 Week  </td><td>anti-PD1</td><td>ICOS+CD38+ cTfh  </td></tr>\n",
       "\t<tr><th scope=row>2</th><td>19616-022_ABC_oW_S20   </td><td>anti-PD1-treated adult 2_ABC_oW   </td><td>GSM5419199</td><td>1 Week  </td><td>anti-PD1</td><td>Activated B cells</td></tr>\n",
       "\t<tr><th scope=row>3</th><td>19616-022_HiHi_oW_S21  </td><td>anti-PD1-treated adult 2_HiHi_oW  </td><td>GSM5419200</td><td>1 Week  </td><td>anti-PD1</td><td>ICOS+CD38+ cTfh  </td></tr>\n",
       "\t<tr><th scope=row>4</th><td>19616-022_naiveB_oW_S19</td><td>anti-PD1-treated adult 2_naiveB_oW</td><td>GSM5419201</td><td>1 Week  </td><td>anti-PD1</td><td>Naïve B cells    </td></tr>\n",
       "\t<tr><th scope=row>5</th><td>19616-023_HiHi_bL_S15  </td><td>anti-PD1-treated adult 3_HiHi_bL  </td><td>GSM5419202</td><td>Baseline</td><td>anti-PD1</td><td>ICOS+CD38+ cTfh  </td></tr>\n",
       "\t<tr><th scope=row>6</th><td>19616-023_HiHi_oW_S18  </td><td>anti-PD1-treated adult 3_HiHi_oW  </td><td>GSM5419203</td><td>1 Week  </td><td>anti-PD1</td><td>ICOS+CD38+ cTfh  </td></tr>\n",
       "</tbody>\n",
       "</table>\n"
      ],
      "text/latex": [
       "A data.frame: 6 × 6\n",
       "\\begin{tabular}{r|llllll}\n",
       "  & id & Sample\\_title & Sample\\_geo\\_accession & Time\\_Point & condition & Cell\\_Type\\\\\n",
       "  & <chr> & <chr> & <chr> & <chr> & <chr> & <chr>\\\\\n",
       "\\hline\n",
       "\t1 & 19616-021\\_HiHi\\_oW\\_S17   & anti-PD1-treated adult 1\\_HiHi\\_oW   & GSM5419198 & 1 Week   & anti-PD1 & ICOS+CD38+ cTfh  \\\\\n",
       "\t2 & 19616-022\\_ABC\\_oW\\_S20    & anti-PD1-treated adult 2\\_ABC\\_oW    & GSM5419199 & 1 Week   & anti-PD1 & Activated B cells\\\\\n",
       "\t3 & 19616-022\\_HiHi\\_oW\\_S21   & anti-PD1-treated adult 2\\_HiHi\\_oW   & GSM5419200 & 1 Week   & anti-PD1 & ICOS+CD38+ cTfh  \\\\\n",
       "\t4 & 19616-022\\_naiveB\\_oW\\_S19 & anti-PD1-treated adult 2\\_naiveB\\_oW & GSM5419201 & 1 Week   & anti-PD1 & Naïve B cells    \\\\\n",
       "\t5 & 19616-023\\_HiHi\\_bL\\_S15   & anti-PD1-treated adult 3\\_HiHi\\_bL   & GSM5419202 & Baseline & anti-PD1 & ICOS+CD38+ cTfh  \\\\\n",
       "\t6 & 19616-023\\_HiHi\\_oW\\_S18   & anti-PD1-treated adult 3\\_HiHi\\_oW   & GSM5419203 & 1 Week   & anti-PD1 & ICOS+CD38+ cTfh  \\\\\n",
       "\\end{tabular}\n"
      ],
      "text/markdown": [
       "\n",
       "A data.frame: 6 × 6\n",
       "\n",
       "| <!--/--> | id &lt;chr&gt; | Sample_title &lt;chr&gt; | Sample_geo_accession &lt;chr&gt; | Time_Point &lt;chr&gt; | condition &lt;chr&gt; | Cell_Type &lt;chr&gt; |\n",
       "|---|---|---|---|---|---|---|\n",
       "| 1 | 19616-021_HiHi_oW_S17   | anti-PD1-treated adult 1_HiHi_oW   | GSM5419198 | 1 Week   | anti-PD1 | ICOS+CD38+ cTfh   |\n",
       "| 2 | 19616-022_ABC_oW_S20    | anti-PD1-treated adult 2_ABC_oW    | GSM5419199 | 1 Week   | anti-PD1 | Activated B cells |\n",
       "| 3 | 19616-022_HiHi_oW_S21   | anti-PD1-treated adult 2_HiHi_oW   | GSM5419200 | 1 Week   | anti-PD1 | ICOS+CD38+ cTfh   |\n",
       "| 4 | 19616-022_naiveB_oW_S19 | anti-PD1-treated adult 2_naiveB_oW | GSM5419201 | 1 Week   | anti-PD1 | Naïve B cells     |\n",
       "| 5 | 19616-023_HiHi_bL_S15   | anti-PD1-treated adult 3_HiHi_bL   | GSM5419202 | Baseline | anti-PD1 | ICOS+CD38+ cTfh   |\n",
       "| 6 | 19616-023_HiHi_oW_S18   | anti-PD1-treated adult 3_HiHi_oW   | GSM5419203 | 1 Week   | anti-PD1 | ICOS+CD38+ cTfh   |\n",
       "\n"
      ],
      "text/plain": [
       "  id                      Sample_title                      \n",
       "1 19616-021_HiHi_oW_S17   anti-PD1-treated adult 1_HiHi_oW  \n",
       "2 19616-022_ABC_oW_S20    anti-PD1-treated adult 2_ABC_oW   \n",
       "3 19616-022_HiHi_oW_S21   anti-PD1-treated adult 2_HiHi_oW  \n",
       "4 19616-022_naiveB_oW_S19 anti-PD1-treated adult 2_naiveB_oW\n",
       "5 19616-023_HiHi_bL_S15   anti-PD1-treated adult 3_HiHi_bL  \n",
       "6 19616-023_HiHi_oW_S18   anti-PD1-treated adult 3_HiHi_oW  \n",
       "  Sample_geo_accession Time_Point condition Cell_Type        \n",
       "1 GSM5419198           1 Week     anti-PD1  ICOS+CD38+ cTfh  \n",
       "2 GSM5419199           1 Week     anti-PD1  Activated B cells\n",
       "3 GSM5419200           1 Week     anti-PD1  ICOS+CD38+ cTfh  \n",
       "4 GSM5419201           1 Week     anti-PD1  Naïve B cells    \n",
       "5 GSM5419202           Baseline   anti-PD1  ICOS+CD38+ cTfh  \n",
       "6 GSM5419203           1 Week     anti-PD1  ICOS+CD38+ cTfh  "
      ]
     },
     "metadata": {},
     "output_type": "display_data"
    }
   ],
   "source": [
    "# Metadata\n",
    "metadata <- read.delim(\"metadata.txt\")\n",
    "head(metadata)"
   ]
  },
  {
   "cell_type": "code",
   "execution_count": 76,
   "metadata": {
    "vscode": {
     "languageId": "r"
    }
   },
   "outputs": [
    {
     "name": "stderr",
     "output_type": "stream",
     "text": [
      "  Note: levels of factors in the design contain characters other than\n",
      "  letters, numbers, '_' and '.'. It is recommended (but not required) to use\n",
      "  only letters, numbers, and delimiters '_' or '.', as these are safe characters\n",
      "  for column names in R. [This is a message, not a warning or an error]\n",
      "\n",
      "estimating size factors\n",
      "\n",
      "  Note: levels of factors in the design contain characters other than\n",
      "  letters, numbers, '_' and '.'. It is recommended (but not required) to use\n",
      "  only letters, numbers, and delimiters '_' or '.', as these are safe characters\n",
      "  for column names in R. [This is a message, not a warning or an error]\n",
      "\n",
      "estimating dispersions\n",
      "\n",
      "gene-wise dispersion estimates\n",
      "\n",
      "mean-dispersion relationship\n",
      "\n",
      "  Note: levels of factors in the design contain characters other than\n",
      "  letters, numbers, '_' and '.'. It is recommended (but not required) to use\n",
      "  only letters, numbers, and delimiters '_' or '.', as these are safe characters\n",
      "  for column names in R. [This is a message, not a warning or an error]\n",
      "\n",
      "final dispersion estimates\n",
      "\n",
      "fitting model and testing\n",
      "\n",
      "  Note: levels of factors in the design contain characters other than\n",
      "  letters, numbers, '_' and '.'. It is recommended (but not required) to use\n",
      "  only letters, numbers, and delimiters '_' or '.', as these are safe characters\n",
      "  for column names in R. [This is a message, not a warning or an error]\n",
      "\n",
      "-- replacing outliers and refitting for 756 genes\n",
      "-- DESeq argument 'minReplicatesForReplace' = 7 \n",
      "-- original counts are preserved in counts(dds)\n",
      "\n",
      "estimating dispersions\n",
      "\n",
      "fitting model and testing\n",
      "\n",
      "  Note: levels of factors in the design contain characters other than\n",
      "  letters, numbers, '_' and '.'. It is recommended (but not required) to use\n",
      "  only letters, numbers, and delimiters '_' or '.', as these are safe characters\n",
      "  for column names in R. [This is a message, not a warning or an error]\n",
      "\n",
      "  Note: levels of factors in the design contain characters other than\n",
      "  letters, numbers, '_' and '.'. It is recommended (but not required) to use\n",
      "  only letters, numbers, and delimiters '_' or '.', as these are safe characters\n",
      "  for column names in R. [This is a message, not a warning or an error]\n",
      "\n"
     ]
    }
   ],
   "source": [
    "# DEG\n",
    "dds <- suppressWarnings(DESeqDataSetFromMatrix(countData = counts_mat,\n",
    "                              colData = metadata,\n",
    "                              design = ~ condition))\n",
    "\n",
    "dds <- suppressWarnings(DESeq(dds))\n",
    "dds <- estimateSizeFactors(dds)\n",
    "analysis <- counts(dds, normalized=FALSE)"
   ]
  },
  {
   "cell_type": "code",
   "execution_count": 77,
   "metadata": {
    "vscode": {
     "languageId": "r"
    }
   },
   "outputs": [
    {
     "data": {
      "text/html": [
       "<table class=\"dataframe\">\n",
       "<caption>A matrix: 6 × 88 of type int</caption>\n",
       "<thead>\n",
       "\t<tr><th></th><th scope=col>19616.021_HiHi_oW_S17</th><th scope=col>19616.022_ABC_oW_S20</th><th scope=col>19616.022_HiHi_oW_S21</th><th scope=col>19616.022_naiveB_oW_S19</th><th scope=col>19616.023_HiHi_bL_S15</th><th scope=col>19616.023_HiHi_oW_S18</th><th scope=col>19616.025_ABC_oW_S27</th><th scope=col>19616.025_HiHi_oW_S29</th><th scope=col>19616.025_naiveB_oW_S26</th><th scope=col>19616.025_PB_oW_S28</th><th scope=col>⋯</th><th scope=col>FS1819.131_ABC_bL_S2</th><th scope=col>FS1819.131_HiHi_bL_S3</th><th scope=col>FS1819.131_HiHi_oW_S10</th><th scope=col>FS1819.131_naiveB_bL_S1</th><th scope=col>FS1819.131_naiveB_oW_S8</th><th scope=col>FS1819.131_PB_oW_S9</th><th scope=col>FS1819.999_ABC_bL_S5</th><th scope=col>FS1819.999_HiHi_bL_S7</th><th scope=col>FS1819.999_naiveB_bL_S4</th><th scope=col>FS1819.999_PB_bL_S6</th></tr>\n",
       "</thead>\n",
       "<tbody>\n",
       "\t<tr><th scope=row>TSPAN6</th><td>  0</td><td>  0</td><td>  0</td><td>  0</td><td>  0</td><td>  1</td><td>  0</td><td>  2</td><td> 0</td><td>  3</td><td>⋯</td><td>  2</td><td>  4</td><td> 17</td><td>  1</td><td>  3</td><td>  1</td><td>  0</td><td>  1</td><td>  0</td><td>  0</td></tr>\n",
       "\t<tr><th scope=row>DPM1</th><td>191</td><td>113</td><td>181</td><td> 87</td><td>221</td><td>163</td><td>117</td><td>142</td><td>86</td><td>114</td><td>⋯</td><td>161</td><td>168</td><td> 99</td><td>100</td><td> 91</td><td> 85</td><td> 92</td><td>179</td><td> 94</td><td>137</td></tr>\n",
       "\t<tr><th scope=row>SCYL3</th><td>  8</td><td> 21</td><td> 21</td><td>  8</td><td> 52</td><td> 24</td><td> 38</td><td> 18</td><td>19</td><td> 19</td><td>⋯</td><td> 60</td><td> 16</td><td> 10</td><td> 14</td><td> 16</td><td> 26</td><td> 53</td><td> 19</td><td> 13</td><td> 14</td></tr>\n",
       "\t<tr><th scope=row>C1orf112</th><td>  5</td><td>  1</td><td>  3</td><td>  4</td><td> 16</td><td>  7</td><td>  8</td><td>  5</td><td> 0</td><td>  5</td><td>⋯</td><td>  1</td><td>  4</td><td>  0</td><td>  2</td><td>  4</td><td>  0</td><td>  4</td><td>  2</td><td>  0</td><td> 13</td></tr>\n",
       "\t<tr><th scope=row>FGR</th><td>125</td><td>299</td><td> 51</td><td>457</td><td> 57</td><td>  0</td><td>794</td><td>476</td><td>78</td><td>637</td><td>⋯</td><td>330</td><td>108</td><td>722</td><td>433</td><td>492</td><td>695</td><td>233</td><td>303</td><td>338</td><td>495</td></tr>\n",
       "\t<tr><th scope=row>CFH</th><td>  0</td><td>  0</td><td>  2</td><td>  0</td><td>  0</td><td>  3</td><td>  0</td><td>  1</td><td> 0</td><td>  0</td><td>⋯</td><td>  0</td><td>  0</td><td>  0</td><td>  1</td><td>  0</td><td>  6</td><td>  0</td><td>  1</td><td>  0</td><td>  0</td></tr>\n",
       "</tbody>\n",
       "</table>\n"
      ],
      "text/latex": [
       "A matrix: 6 × 88 of type int\n",
       "\\begin{tabular}{r|lllllllllllllllllllll}\n",
       "  & 19616.021\\_HiHi\\_oW\\_S17 & 19616.022\\_ABC\\_oW\\_S20 & 19616.022\\_HiHi\\_oW\\_S21 & 19616.022\\_naiveB\\_oW\\_S19 & 19616.023\\_HiHi\\_bL\\_S15 & 19616.023\\_HiHi\\_oW\\_S18 & 19616.025\\_ABC\\_oW\\_S27 & 19616.025\\_HiHi\\_oW\\_S29 & 19616.025\\_naiveB\\_oW\\_S26 & 19616.025\\_PB\\_oW\\_S28 & ⋯ & FS1819.131\\_ABC\\_bL\\_S2 & FS1819.131\\_HiHi\\_bL\\_S3 & FS1819.131\\_HiHi\\_oW\\_S10 & FS1819.131\\_naiveB\\_bL\\_S1 & FS1819.131\\_naiveB\\_oW\\_S8 & FS1819.131\\_PB\\_oW\\_S9 & FS1819.999\\_ABC\\_bL\\_S5 & FS1819.999\\_HiHi\\_bL\\_S7 & FS1819.999\\_naiveB\\_bL\\_S4 & FS1819.999\\_PB\\_bL\\_S6\\\\\n",
       "\\hline\n",
       "\tTSPAN6 &   0 &   0 &   0 &   0 &   0 &   1 &   0 &   2 &  0 &   3 & ⋯ &   2 &   4 &  17 &   1 &   3 &   1 &   0 &   1 &   0 &   0\\\\\n",
       "\tDPM1 & 191 & 113 & 181 &  87 & 221 & 163 & 117 & 142 & 86 & 114 & ⋯ & 161 & 168 &  99 & 100 &  91 &  85 &  92 & 179 &  94 & 137\\\\\n",
       "\tSCYL3 &   8 &  21 &  21 &   8 &  52 &  24 &  38 &  18 & 19 &  19 & ⋯ &  60 &  16 &  10 &  14 &  16 &  26 &  53 &  19 &  13 &  14\\\\\n",
       "\tC1orf112 &   5 &   1 &   3 &   4 &  16 &   7 &   8 &   5 &  0 &   5 & ⋯ &   1 &   4 &   0 &   2 &   4 &   0 &   4 &   2 &   0 &  13\\\\\n",
       "\tFGR & 125 & 299 &  51 & 457 &  57 &   0 & 794 & 476 & 78 & 637 & ⋯ & 330 & 108 & 722 & 433 & 492 & 695 & 233 & 303 & 338 & 495\\\\\n",
       "\tCFH &   0 &   0 &   2 &   0 &   0 &   3 &   0 &   1 &  0 &   0 & ⋯ &   0 &   0 &   0 &   1 &   0 &   6 &   0 &   1 &   0 &   0\\\\\n",
       "\\end{tabular}\n"
      ],
      "text/markdown": [
       "\n",
       "A matrix: 6 × 88 of type int\n",
       "\n",
       "| <!--/--> | 19616.021_HiHi_oW_S17 | 19616.022_ABC_oW_S20 | 19616.022_HiHi_oW_S21 | 19616.022_naiveB_oW_S19 | 19616.023_HiHi_bL_S15 | 19616.023_HiHi_oW_S18 | 19616.025_ABC_oW_S27 | 19616.025_HiHi_oW_S29 | 19616.025_naiveB_oW_S26 | 19616.025_PB_oW_S28 | ⋯ | FS1819.131_ABC_bL_S2 | FS1819.131_HiHi_bL_S3 | FS1819.131_HiHi_oW_S10 | FS1819.131_naiveB_bL_S1 | FS1819.131_naiveB_oW_S8 | FS1819.131_PB_oW_S9 | FS1819.999_ABC_bL_S5 | FS1819.999_HiHi_bL_S7 | FS1819.999_naiveB_bL_S4 | FS1819.999_PB_bL_S6 |\n",
       "|---|---|---|---|---|---|---|---|---|---|---|---|---|---|---|---|---|---|---|---|---|---|\n",
       "| TSPAN6 |   0 |   0 |   0 |   0 |   0 |   1 |   0 |   2 |  0 |   3 | ⋯ |   2 |   4 |  17 |   1 |   3 |   1 |   0 |   1 |   0 |   0 |\n",
       "| DPM1 | 191 | 113 | 181 |  87 | 221 | 163 | 117 | 142 | 86 | 114 | ⋯ | 161 | 168 |  99 | 100 |  91 |  85 |  92 | 179 |  94 | 137 |\n",
       "| SCYL3 |   8 |  21 |  21 |   8 |  52 |  24 |  38 |  18 | 19 |  19 | ⋯ |  60 |  16 |  10 |  14 |  16 |  26 |  53 |  19 |  13 |  14 |\n",
       "| C1orf112 |   5 |   1 |   3 |   4 |  16 |   7 |   8 |   5 |  0 |   5 | ⋯ |   1 |   4 |   0 |   2 |   4 |   0 |   4 |   2 |   0 |  13 |\n",
       "| FGR | 125 | 299 |  51 | 457 |  57 |   0 | 794 | 476 | 78 | 637 | ⋯ | 330 | 108 | 722 | 433 | 492 | 695 | 233 | 303 | 338 | 495 |\n",
       "| CFH |   0 |   0 |   2 |   0 |   0 |   3 |   0 |   1 |  0 |   0 | ⋯ |   0 |   0 |   0 |   1 |   0 |   6 |   0 |   1 |   0 |   0 |\n",
       "\n"
      ],
      "text/plain": [
       "         19616.021_HiHi_oW_S17 19616.022_ABC_oW_S20 19616.022_HiHi_oW_S21\n",
       "TSPAN6     0                     0                    0                  \n",
       "DPM1     191                   113                  181                  \n",
       "SCYL3      8                    21                   21                  \n",
       "C1orf112   5                     1                    3                  \n",
       "FGR      125                   299                   51                  \n",
       "CFH        0                     0                    2                  \n",
       "         19616.022_naiveB_oW_S19 19616.023_HiHi_bL_S15 19616.023_HiHi_oW_S18\n",
       "TSPAN6     0                       0                     1                  \n",
       "DPM1      87                     221                   163                  \n",
       "SCYL3      8                      52                    24                  \n",
       "C1orf112   4                      16                     7                  \n",
       "FGR      457                      57                     0                  \n",
       "CFH        0                       0                     3                  \n",
       "         19616.025_ABC_oW_S27 19616.025_HiHi_oW_S29 19616.025_naiveB_oW_S26\n",
       "TSPAN6     0                    2                    0                     \n",
       "DPM1     117                  142                   86                     \n",
       "SCYL3     38                   18                   19                     \n",
       "C1orf112   8                    5                    0                     \n",
       "FGR      794                  476                   78                     \n",
       "CFH        0                    1                    0                     \n",
       "         19616.025_PB_oW_S28 ⋯ FS1819.131_ABC_bL_S2 FS1819.131_HiHi_bL_S3\n",
       "TSPAN6     3                 ⋯   2                    4                  \n",
       "DPM1     114                 ⋯ 161                  168                  \n",
       "SCYL3     19                 ⋯  60                   16                  \n",
       "C1orf112   5                 ⋯   1                    4                  \n",
       "FGR      637                 ⋯ 330                  108                  \n",
       "CFH        0                 ⋯   0                    0                  \n",
       "         FS1819.131_HiHi_oW_S10 FS1819.131_naiveB_bL_S1 FS1819.131_naiveB_oW_S8\n",
       "TSPAN6    17                      1                       3                    \n",
       "DPM1      99                    100                      91                    \n",
       "SCYL3     10                     14                      16                    \n",
       "C1orf112   0                      2                       4                    \n",
       "FGR      722                    433                     492                    \n",
       "CFH        0                      1                       0                    \n",
       "         FS1819.131_PB_oW_S9 FS1819.999_ABC_bL_S5 FS1819.999_HiHi_bL_S7\n",
       "TSPAN6     1                   0                    1                  \n",
       "DPM1      85                  92                  179                  \n",
       "SCYL3     26                  53                   19                  \n",
       "C1orf112   0                   4                    2                  \n",
       "FGR      695                 233                  303                  \n",
       "CFH        6                   0                    1                  \n",
       "         FS1819.999_naiveB_bL_S4 FS1819.999_PB_bL_S6\n",
       "TSPAN6     0                       0                \n",
       "DPM1      94                     137                \n",
       "SCYL3     13                      14                \n",
       "C1orf112   0                      13                \n",
       "FGR      338                     495                \n",
       "CFH        0                       0                "
      ]
     },
     "metadata": {},
     "output_type": "display_data"
    }
   ],
   "source": [
    "head(analysis)"
   ]
  },
  {
   "cell_type": "code",
   "execution_count": 82,
   "metadata": {
    "vscode": {
     "languageId": "r"
    }
   },
   "outputs": [
    {
     "data": {
      "text/html": [
       "<table class=\"dataframe\">\n",
       "<caption>A data.frame: 6 × 5</caption>\n",
       "<thead>\n",
       "\t<tr><th></th><th scope=col>Sample</th><th scope=col>Condition</th><th scope=col>Time_Point</th><th scope=col>Cell_Type</th><th scope=col>new_column</th></tr>\n",
       "\t<tr><th></th><th scope=col>&lt;chr&gt;</th><th scope=col>&lt;chr&gt;</th><th scope=col>&lt;chr&gt;</th><th scope=col>&lt;chr&gt;</th><th scope=col>&lt;chr&gt;</th></tr>\n",
       "</thead>\n",
       "<tbody>\n",
       "\t<tr><th scope=row>1</th><td>19616.021_HiHi_oW_S17  </td><td>anti-PD1</td><td>1 Week  </td><td>ICOS+CD38+ cTfh  </td><td>anti-PD1_1 Week_ICOS+CD38+ cTfh  </td></tr>\n",
       "\t<tr><th scope=row>2</th><td>19616.022_ABC_oW_S20   </td><td>anti-PD1</td><td>1 Week  </td><td>Activated B cells</td><td>anti-PD1_1 Week_Activated B cells</td></tr>\n",
       "\t<tr><th scope=row>3</th><td>19616.022_HiHi_oW_S21  </td><td>anti-PD1</td><td>1 Week  </td><td>ICOS+CD38+ cTfh  </td><td>anti-PD1_1 Week_ICOS+CD38+ cTfh  </td></tr>\n",
       "\t<tr><th scope=row>4</th><td>19616.022_naiveB_oW_S19</td><td>anti-PD1</td><td>1 Week  </td><td>Naïve B cells    </td><td>anti-PD1_1 Week_Naïve B cells    </td></tr>\n",
       "\t<tr><th scope=row>5</th><td>19616.023_HiHi_bL_S15  </td><td>anti-PD1</td><td>Baseline</td><td>ICOS+CD38+ cTfh  </td><td>anti-PD1_Baseline_ICOS+CD38+ cTfh</td></tr>\n",
       "\t<tr><th scope=row>6</th><td>19616.023_HiHi_oW_S18  </td><td>anti-PD1</td><td>1 Week  </td><td>ICOS+CD38+ cTfh  </td><td>anti-PD1_1 Week_ICOS+CD38+ cTfh  </td></tr>\n",
       "</tbody>\n",
       "</table>\n"
      ],
      "text/latex": [
       "A data.frame: 6 × 5\n",
       "\\begin{tabular}{r|lllll}\n",
       "  & Sample & Condition & Time\\_Point & Cell\\_Type & new\\_column\\\\\n",
       "  & <chr> & <chr> & <chr> & <chr> & <chr>\\\\\n",
       "\\hline\n",
       "\t1 & 19616.021\\_HiHi\\_oW\\_S17   & anti-PD1 & 1 Week   & ICOS+CD38+ cTfh   & anti-PD1\\_1 Week\\_ICOS+CD38+ cTfh  \\\\\n",
       "\t2 & 19616.022\\_ABC\\_oW\\_S20    & anti-PD1 & 1 Week   & Activated B cells & anti-PD1\\_1 Week\\_Activated B cells\\\\\n",
       "\t3 & 19616.022\\_HiHi\\_oW\\_S21   & anti-PD1 & 1 Week   & ICOS+CD38+ cTfh   & anti-PD1\\_1 Week\\_ICOS+CD38+ cTfh  \\\\\n",
       "\t4 & 19616.022\\_naiveB\\_oW\\_S19 & anti-PD1 & 1 Week   & Naïve B cells     & anti-PD1\\_1 Week\\_Naïve B cells    \\\\\n",
       "\t5 & 19616.023\\_HiHi\\_bL\\_S15   & anti-PD1 & Baseline & ICOS+CD38+ cTfh   & anti-PD1\\_Baseline\\_ICOS+CD38+ cTfh\\\\\n",
       "\t6 & 19616.023\\_HiHi\\_oW\\_S18   & anti-PD1 & 1 Week   & ICOS+CD38+ cTfh   & anti-PD1\\_1 Week\\_ICOS+CD38+ cTfh  \\\\\n",
       "\\end{tabular}\n"
      ],
      "text/markdown": [
       "\n",
       "A data.frame: 6 × 5\n",
       "\n",
       "| <!--/--> | Sample &lt;chr&gt; | Condition &lt;chr&gt; | Time_Point &lt;chr&gt; | Cell_Type &lt;chr&gt; | new_column &lt;chr&gt; |\n",
       "|---|---|---|---|---|---|\n",
       "| 1 | 19616.021_HiHi_oW_S17   | anti-PD1 | 1 Week   | ICOS+CD38+ cTfh   | anti-PD1_1 Week_ICOS+CD38+ cTfh   |\n",
       "| 2 | 19616.022_ABC_oW_S20    | anti-PD1 | 1 Week   | Activated B cells | anti-PD1_1 Week_Activated B cells |\n",
       "| 3 | 19616.022_HiHi_oW_S21   | anti-PD1 | 1 Week   | ICOS+CD38+ cTfh   | anti-PD1_1 Week_ICOS+CD38+ cTfh   |\n",
       "| 4 | 19616.022_naiveB_oW_S19 | anti-PD1 | 1 Week   | Naïve B cells     | anti-PD1_1 Week_Naïve B cells     |\n",
       "| 5 | 19616.023_HiHi_bL_S15   | anti-PD1 | Baseline | ICOS+CD38+ cTfh   | anti-PD1_Baseline_ICOS+CD38+ cTfh |\n",
       "| 6 | 19616.023_HiHi_oW_S18   | anti-PD1 | 1 Week   | ICOS+CD38+ cTfh   | anti-PD1_1 Week_ICOS+CD38+ cTfh   |\n",
       "\n"
      ],
      "text/plain": [
       "  Sample                  Condition Time_Point Cell_Type        \n",
       "1 19616.021_HiHi_oW_S17   anti-PD1  1 Week     ICOS+CD38+ cTfh  \n",
       "2 19616.022_ABC_oW_S20    anti-PD1  1 Week     Activated B cells\n",
       "3 19616.022_HiHi_oW_S21   anti-PD1  1 Week     ICOS+CD38+ cTfh  \n",
       "4 19616.022_naiveB_oW_S19 anti-PD1  1 Week     Naïve B cells    \n",
       "5 19616.023_HiHi_bL_S15   anti-PD1  Baseline   ICOS+CD38+ cTfh  \n",
       "6 19616.023_HiHi_oW_S18   anti-PD1  1 Week     ICOS+CD38+ cTfh  \n",
       "  new_column                       \n",
       "1 anti-PD1_1 Week_ICOS+CD38+ cTfh  \n",
       "2 anti-PD1_1 Week_Activated B cells\n",
       "3 anti-PD1_1 Week_ICOS+CD38+ cTfh  \n",
       "4 anti-PD1_1 Week_Naïve B cells    \n",
       "5 anti-PD1_Baseline_ICOS+CD38+ cTfh\n",
       "6 anti-PD1_1 Week_ICOS+CD38+ cTfh  "
      ]
     },
     "metadata": {},
     "output_type": "display_data"
    }
   ],
   "source": [
    "phen <- tibble::rownames_to_column(as.data.frame(colData(dds)), \"Sample\") %>%\n",
    "    rename(Condition = condition) %>%\n",
    "    mutate(Source = 'PBMC') %>%\n",
    "    select(Sample, Condition, Time_Point, Cell_Type) %>%\n",
    "    mutate(across(everything(), as.character))\n",
    "phen$new_column <- paste(phen$Condition, phen$Time_Point, phen$Cell_Type, sep = \"_\")\n",
    "head(phen)"
   ]
  },
  {
   "cell_type": "code",
   "execution_count": 83,
   "metadata": {
    "vscode": {
     "languageId": "r"
    }
   },
   "outputs": [],
   "source": [
    "saveRDS(analysis, file = file.path(\"PBMC_RNAseq_GSE179487\", \"expression.rds\"))\n",
    "saveRDS(phen, file = file.path(\"PBMC_RNAseq_GSE179487\", \"metadata.rds\"))"
   ]
  },
  {
   "cell_type": "code",
   "execution_count": 84,
   "metadata": {
    "vscode": {
     "languageId": "r"
    }
   },
   "outputs": [],
   "source": [
    "system(\"R -e \\\"shiny::runApp('PBMC_RNAseq_GSE179487')\\\"\")"
   ]
  }
 ],
 "metadata": {
  "kernelspec": {
   "display_name": "R",
   "language": "R",
   "name": "ir"
  },
  "language_info": {
   "codemirror_mode": "r",
   "file_extension": ".r",
   "mimetype": "text/x-r-source",
   "name": "R",
   "pygments_lexer": "r",
   "version": "4.3.3"
  }
 },
 "nbformat": 4,
 "nbformat_minor": 2
}
